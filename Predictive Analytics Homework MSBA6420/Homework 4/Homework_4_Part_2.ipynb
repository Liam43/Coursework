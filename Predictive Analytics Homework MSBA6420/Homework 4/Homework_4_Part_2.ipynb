{
 "cells": [
  {
   "cell_type": "markdown",
   "metadata": {
    "colab_type": "text",
    "id": "EGAJndr5x_yb"
   },
   "source": [
    "Homework 4 Part 2"
   ]
  },
  {
   "cell_type": "code",
   "execution_count": 0,
   "metadata": {
    "colab": {},
    "colab_type": "code",
    "id": "0-x2qKOpyCEl"
   },
   "outputs": [],
   "source": [
    "import numpy as np\n",
    "import pandas as pd \n",
    "from keras import optimizers\n",
    "from keras.preprocessing.image import ImageDataGenerator, load_img\n",
    "from keras.utils import to_categorical\n",
    "from keras.models import Sequential\n",
    "from keras.layers import Conv2D, MaxPooling2D, Dropout, Flatten, Dense, Activation, BatchNormalization\n",
    "from sklearn.model_selection import train_test_split\n",
    "import matplotlib.pyplot as plt\n",
    "import random\n",
    "import cv2"
   ]
  },
  {
   "cell_type": "code",
   "execution_count": 121,
   "metadata": {
    "colab": {
     "base_uri": "https://localhost:8080/",
     "height": 34
    },
    "colab_type": "code",
    "id": "QAvLbdSWzbeD",
    "outputId": "34d512e6-60b5-4ec9-922d-b681c7faf9e9"
   },
   "outputs": [
    {
     "name": "stdout",
     "output_type": "stream",
     "text": [
      "Drive already mounted at /content/drive; to attempt to forcibly remount, call drive.mount(\"/content/drive\", force_remount=True).\n"
     ]
    }
   ],
   "source": [
    "from google.colab import drive\n",
    "drive.mount('/content/drive')"
   ]
  },
  {
   "cell_type": "code",
   "execution_count": 122,
   "metadata": {
    "colab": {
     "base_uri": "https://localhost:8080/",
     "height": 91,
     "resources": {
      "http://localhost:8080/nbextensions/google.colab/files.js": {
       "data": "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",
       "headers": [
        [
         "content-type",
         "application/javascript"
        ]
       ],
       "ok": true,
       "status": 200,
       "status_text": ""
      }
     }
    },
    "colab_type": "code",
    "id": "tiX8PE-oyYE2",
    "outputId": "4524c108-1986-48d4-bd2b-9adf4b98cd1d"
   },
   "outputs": [
    {
     "data": {
      "text/html": [
       "\n",
       "     <input type=\"file\" id=\"files-313c2b55-9f3b-45a7-8113-bdf73c03ef88\" name=\"files[]\" multiple disabled />\n",
       "     <output id=\"result-313c2b55-9f3b-45a7-8113-bdf73c03ef88\">\n",
       "      Upload widget is only available when the cell has been executed in the\n",
       "      current browser session. Please rerun this cell to enable.\n",
       "      </output>\n",
       "      <script src=\"/nbextensions/google.colab/files.js\"></script> "
      ],
      "text/plain": [
       "<IPython.core.display.HTML object>"
      ]
     },
     "metadata": {
      "tags": []
     },
     "output_type": "display_data"
    },
    {
     "name": "stdout",
     "output_type": "stream",
     "text": [
      "Saving kaggle.json to kaggle (1).json\n"
     ]
    },
    {
     "data": {
      "text/plain": [
       "{'kaggle.json': b'{\"username\":\"willywu\",\"key\":\"dfad6221ebc97ed6ba2322f41aaf760c\"}'}"
      ]
     },
     "execution_count": 122,
     "metadata": {
      "tags": []
     },
     "output_type": "execute_result"
    }
   ],
   "source": [
    "from google.colab import files\n",
    "files.upload()"
   ]
  },
  {
   "cell_type": "code",
   "execution_count": 0,
   "metadata": {
    "colab": {
     "base_uri": "https://localhost:8080/",
     "height": 34
    },
    "colab_type": "code",
    "id": "vFyCmRDA2Kx5",
    "outputId": "fbc019f9-200f-4176-f870-740e71280c01"
   },
   "outputs": [
    {
     "name": "stdout",
     "output_type": "stream",
     "text": [
      "chmod: cannot access '/root/.kaggle/kaggle.json': No such file or directory\n"
     ]
    }
   ],
   "source": [
    "!chmod 600 /root/.kaggle/kaggle.json"
   ]
  },
  {
   "cell_type": "code",
   "execution_count": 0,
   "metadata": {
    "colab": {},
    "colab_type": "code",
    "id": "K284_v6O2SEu"
   },
   "outputs": [],
   "source": [
    "!pip install Pillow==4.1.1\n",
    "!pip install fastai=0.7.0\n",
    "!pip install torchtext==0.2.3\n",
    "!pip install blosc "
   ]
  },
  {
   "cell_type": "code",
   "execution_count": 0,
   "metadata": {
    "colab": {
     "base_uri": "https://localhost:8080/",
     "height": 224
    },
    "colab_type": "code",
    "id": "PD1bbymg2_Nv",
    "outputId": "c44183ad-de50-4ded-d317-64aa2faec78d"
   },
   "outputs": [
    {
     "name": "stdout",
     "output_type": "stream",
     "text": [
      "Warning: Your Kaggle API key is readable by other users on this system! To fix this, you can run 'chmod 600 /root/.kaggle/kaggle.json'\n",
      "Warning: Looks like you're using an outdated API Version, please consider updating (server 1.5.6 / client 1.5.4)\n",
      "Downloading test.zip to /content\n",
      " 96% 261M/271M [00:01<00:00, 144MB/s]\n",
      "100% 271M/271M [00:01<00:00, 152MB/s]\n",
      "Downloading train.zip to /content\n",
      " 98% 531M/544M [00:02<00:00, 214MB/s]\n",
      "100% 544M/544M [00:02<00:00, 203MB/s]\n",
      "Downloading sample_submission.csv to /content\n",
      "  0% 0.00/111k [00:00<?, ?B/s]\n",
      "100% 111k/111k [00:00<00:00, 42.9MB/s]\n"
     ]
    }
   ],
   "source": [
    "!mkdir -p ~/.kaggle\n",
    "!cp kaggle.json ~/.kaggle/\n",
    "!kaggle competitions download -c dogs-vs-cats-redux-kernels-edition"
   ]
  },
  {
   "cell_type": "code",
   "execution_count": 0,
   "metadata": {
    "colab": {},
    "colab_type": "code",
    "id": "LPUpUhIq3rQh"
   },
   "outputs": [],
   "source": [
    "!unzip train.zip"
   ]
  },
  {
   "cell_type": "code",
   "execution_count": 123,
   "metadata": {
    "colab": {
     "base_uri": "https://localhost:8080/",
     "height": 51
    },
    "colab_type": "code",
    "id": "Y-3L9MXw4qof",
    "outputId": "16255c1a-e293-4674-d988-dee52b1134e0"
   },
   "outputs": [
    {
     "name": "stdout",
     "output_type": "stream",
     "text": [
      " drive\t\t    kaggle.json   sample_data\t\t  test\t     train\n",
      "'kaggle (1).json'   model.h5\t  sample_submission.csv   test.zip   train.zip\n"
     ]
    }
   ],
   "source": [
    "!ls"
   ]
  },
  {
   "cell_type": "code",
   "execution_count": 0,
   "metadata": {
    "colab": {},
    "colab_type": "code",
    "id": "fIdbVHZo48LL"
   },
   "outputs": [],
   "source": [
    "filenames = os.listdir(\"/content/train\")\n",
    "categories = []\n",
    "for filename in filenames:\n",
    "    category = filename.split('.')[0]\n",
    "    if category == 'dog':\n",
    "        categories.append(1)\n",
    "    else:\n",
    "        categories.append(0)\n",
    "\n",
    "catdog = pd.DataFrame({\n",
    "    'filename': filenames,\n",
    "    'category': categories\n",
    "})"
   ]
  },
  {
   "cell_type": "code",
   "execution_count": 192,
   "metadata": {
    "colab": {
     "base_uri": "https://localhost:8080/",
     "height": 493
    },
    "colab_type": "code",
    "id": "-_fvLH1cazD_",
    "outputId": "45c86b6c-3391-4cb1-bd2c-a07000ecd0c5"
   },
   "outputs": [
    {
     "name": "stdout",
     "output_type": "stream",
     "text": [
      "            filename  category\n",
      "6655    dog.7721.jpg         1\n",
      "6085     dog.933.jpg         1\n",
      "21848  dog.12285.jpg         1\n",
      "5106    dog.4850.jpg         1\n",
      "21856   cat.4997.jpg         0\n",
      "...              ...       ...\n",
      "10955   dog.9181.jpg         1\n",
      "17289   dog.1214.jpg         1\n",
      "5192    dog.7438.jpg         1\n",
      "12172   cat.6003.jpg         0\n",
      "235    dog.10374.jpg         1\n",
      "\n",
      "[20000 rows x 2 columns]\n",
      "           filename  category\n",
      "21492  cat.3312.jpg         0\n",
      "9488   dog.4630.jpg         1\n",
      "16933   cat.503.jpg         0\n",
      "12604  dog.3911.jpg         1\n",
      "8222   cat.8832.jpg         0\n",
      "...             ...       ...\n",
      "11139  dog.3309.jpg         1\n",
      "19053  dog.7769.jpg         1\n",
      "7037   dog.1121.jpg         1\n",
      "17119  dog.2241.jpg         1\n",
      "20477  cat.1185.jpg         0\n",
      "\n",
      "[5000 rows x 2 columns]\n"
     ]
    }
   ],
   "source": [
    "train, test = train_test_split(catdog, test_size= 0.2, random_state=1)\n",
    "print(train)\n",
    "print(test)"
   ]
  },
  {
   "cell_type": "code",
   "execution_count": 193,
   "metadata": {
    "colab": {
     "base_uri": "https://localhost:8080/",
     "height": 459
    },
    "colab_type": "code",
    "id": "6c3VxArBfay2",
    "outputId": "704c90fe-5679-4d58-aa2d-a84f152871e9"
   },
   "outputs": [
    {
     "name": "stdout",
     "output_type": "stream",
     "text": [
      "            filename category\n",
      "6655    dog.7721.jpg      dog\n",
      "6085     dog.933.jpg      dog\n",
      "21848  dog.12285.jpg      dog\n",
      "5106    dog.4850.jpg      dog\n",
      "21856   cat.4997.jpg      cat\n",
      "...              ...      ...\n",
      "10955   dog.9181.jpg      dog\n",
      "17289   dog.1214.jpg      dog\n",
      "5192    dog.7438.jpg      dog\n",
      "12172   cat.6003.jpg      cat\n",
      "235    dog.10374.jpg      dog\n",
      "\n",
      "[20000 rows x 2 columns]\n"
     ]
    },
    {
     "name": "stderr",
     "output_type": "stream",
     "text": [
      "/usr/local/lib/python3.6/dist-packages/ipykernel_launcher.py:1: SettingWithCopyWarning: \n",
      "A value is trying to be set on a copy of a slice from a DataFrame.\n",
      "Try using .loc[row_indexer,col_indexer] = value instead\n",
      "\n",
      "See the caveats in the documentation: http://pandas.pydata.org/pandas-docs/stable/user_guide/indexing.html#returning-a-view-versus-a-copy\n",
      "  \"\"\"Entry point for launching an IPython kernel.\n",
      "/usr/local/lib/python3.6/dist-packages/ipykernel_launcher.py:2: SettingWithCopyWarning: \n",
      "A value is trying to be set on a copy of a slice from a DataFrame.\n",
      "Try using .loc[row_indexer,col_indexer] = value instead\n",
      "\n",
      "See the caveats in the documentation: http://pandas.pydata.org/pandas-docs/stable/user_guide/indexing.html#returning-a-view-versus-a-copy\n",
      "  \n"
     ]
    }
   ],
   "source": [
    "train[\"category\"] = train[\"category\"].replace({0: 'cat', 1: 'dog'}) \n",
    "test[\"category\"] = test[\"category\"].replace({0: 'cat', 1: 'dog'}) \n",
    "print(train)"
   ]
  },
  {
   "cell_type": "code",
   "execution_count": 0,
   "metadata": {
    "colab": {},
    "colab_type": "code",
    "id": "PQjA61pGYAe6"
   },
   "outputs": [],
   "source": [
    "width = 256\n",
    "height= 256\n",
    "channels=3\n",
    "batch_size = 32\n",
    "size_train = 20000\n",
    "size_test = 5000"
   ]
  },
  {
   "cell_type": "code",
   "execution_count": 217,
   "metadata": {
    "colab": {
     "base_uri": "https://localhost:8080/",
     "height": 51
    },
    "colab_type": "code",
    "id": "Uhmy0lifbsEn",
    "outputId": "1687d6da-f1cb-469c-f199-fb98c05959f2"
   },
   "outputs": [
    {
     "name": "stdout",
     "output_type": "stream",
     "text": [
      "Found 20000 validated image filenames belonging to 2 classes.\n",
      "Found 5000 validated image filenames belonging to 2 classes.\n"
     ]
    }
   ],
   "source": [
    "train_datagen = ImageDataGenerator(  \n",
    "    rescale=1./255.,\n",
    "    rotation_range=40,\n",
    "    width_shift_range=0.2,\n",
    "    height_shift_range=0.2,\n",
    "    shear_range=0.2,\n",
    "    zoom_range=0.2,\n",
    "    horizontal_flip=True\n",
    "    )\n",
    "\n",
    "train_gen = train_datagen.flow_from_dataframe(\n",
    "    train, \n",
    "    \"/content/train/\", \n",
    "    x_col='filename',\n",
    "    y_col='category',\n",
    "    target_size=(width,height),\n",
    "    class_mode='categorical',\n",
    "    batch_size=batch_size\n",
    ")\n",
    "test_datagen = ImageDataGenerator(rescale=1./255)\n",
    "test_gen = test_datagen.flow_from_dataframe(\n",
    "    test, \n",
    "    \"/content/train/\", \n",
    "    x_col='filename',\n",
    "    y_col='category',\n",
    "    target_size=(width,height),\n",
    "    class_mode='categorical',\n",
    "    batch_size=batch_size\n",
    ")"
   ]
  },
  {
   "cell_type": "code",
   "execution_count": 218,
   "metadata": {
    "colab": {
     "base_uri": "https://localhost:8080/",
     "height": 595
    },
    "colab_type": "code",
    "id": "RBVaBPgd8PXV",
    "outputId": "4ef7bf45-18d3-4f2c-dc4c-e46696260548"
   },
   "outputs": [
    {
     "name": "stdout",
     "output_type": "stream",
     "text": [
      "Model: \"sequential_33\"\n",
      "_________________________________________________________________\n",
      "Layer (type)                 Output Shape              Param #   \n",
      "=================================================================\n",
      "conv2d_85 (Conv2D)           (None, 254, 254, 32)      896       \n",
      "_________________________________________________________________\n",
      "batch_normalization_109 (Bat (None, 254, 254, 32)      128       \n",
      "_________________________________________________________________\n",
      "max_pooling2d_83 (MaxPooling (None, 127, 127, 32)      0         \n",
      "_________________________________________________________________\n",
      "conv2d_86 (Conv2D)           (None, 125, 125, 64)      18496     \n",
      "_________________________________________________________________\n",
      "batch_normalization_110 (Bat (None, 125, 125, 64)      256       \n",
      "_________________________________________________________________\n",
      "max_pooling2d_84 (MaxPooling (None, 62, 62, 64)        0         \n",
      "_________________________________________________________________\n",
      "conv2d_87 (Conv2D)           (None, 60, 60, 128)       73856     \n",
      "_________________________________________________________________\n",
      "batch_normalization_111 (Bat (None, 60, 60, 128)       512       \n",
      "_________________________________________________________________\n",
      "max_pooling2d_85 (MaxPooling (None, 30, 30, 128)       0         \n",
      "_________________________________________________________________\n",
      "flatten_27 (Flatten)         (None, 115200)            0         \n",
      "_________________________________________________________________\n",
      "dense_53 (Dense)             (None, 512)               58982912  \n",
      "_________________________________________________________________\n",
      "batch_normalization_112 (Bat (None, 512)               2048      \n",
      "_________________________________________________________________\n",
      "dense_54 (Dense)             (None, 2)                 1026      \n",
      "=================================================================\n",
      "Total params: 59,080,130\n",
      "Trainable params: 59,078,658\n",
      "Non-trainable params: 1,472\n",
      "_________________________________________________________________\n"
     ]
    }
   ],
   "source": [
    "model1 = Sequential()\n",
    "\n",
    "model1.add(Conv2D(32, (3, 3), activation='relu', input_shape=(width, height, channels)))\n",
    "model1.add(BatchNormalization())\n",
    "model1.add(MaxPooling2D(2, 2))\n",
    "\n",
    "model1.add(Conv2D(64, (3, 3), activation='relu'))\n",
    "model1.add(BatchNormalization())\n",
    "model1.add(MaxPooling2D(2, 2))\n",
    "\n",
    "model1.add(Conv2D(128, (3, 3), activation='relu'))\n",
    "model1.add(BatchNormalization())\n",
    "model1.add(MaxPooling2D(2, 2))\n",
    "\n",
    "model1.add(Flatten())\n",
    "model1.add(Dense(512, activation='relu'))\n",
    "model1.add(BatchNormalization())\n",
    "model1.add(Dense(2, activation='sigmoid'))\n",
    "\n",
    "model1.compile(loss='binary_crossentropy', optimizer='rmsprop', metrics=['accuracy'])\n",
    "\n",
    "model1.summary()"
   ]
  },
  {
   "cell_type": "code",
   "execution_count": 220,
   "metadata": {
    "colab": {
     "base_uri": "https://localhost:8080/",
     "height": 1000
    },
    "colab_type": "code",
    "id": "bB869zGwgVPA",
    "outputId": "b62364c1-0d10-41b3-a810-a72dc5ea3021"
   },
   "outputs": [
    {
     "name": "stdout",
     "output_type": "stream",
     "text": [
      "Epoch 1/50\n",
      "625/625 [==============================] - 318s 508ms/step - loss: 0.5763 - acc: 0.6975 - val_loss: 0.5287 - val_acc: 0.7318\n",
      "Epoch 2/50\n",
      "625/625 [==============================] - 314s 503ms/step - loss: 0.5171 - acc: 0.7437 - val_loss: 0.5363 - val_acc: 0.7338\n",
      "Epoch 3/50\n",
      "625/625 [==============================] - 315s 504ms/step - loss: 0.4836 - acc: 0.7678 - val_loss: 0.4719 - val_acc: 0.7715\n",
      "Epoch 4/50\n",
      "625/625 [==============================] - 316s 505ms/step - loss: 0.4518 - acc: 0.7893 - val_loss: 0.4066 - val_acc: 0.8193\n",
      "Epoch 5/50\n",
      "625/625 [==============================] - 315s 505ms/step - loss: 0.4264 - acc: 0.8051 - val_loss: 0.7722 - val_acc: 0.7122\n",
      "Epoch 6/50\n",
      "625/625 [==============================] - 310s 495ms/step - loss: 0.3949 - acc: 0.8260 - val_loss: 0.4152 - val_acc: 0.8139\n",
      "Epoch 7/50\n",
      "625/625 [==============================] - 308s 493ms/step - loss: 0.3745 - acc: 0.8353 - val_loss: 0.3762 - val_acc: 0.8329\n",
      "Epoch 8/50\n",
      "625/625 [==============================] - 311s 497ms/step - loss: 0.3499 - acc: 0.8498 - val_loss: 1.4729 - val_acc: 0.7158\n",
      "Epoch 9/50\n",
      "625/625 [==============================] - 308s 493ms/step - loss: 0.3359 - acc: 0.8563 - val_loss: 0.3646 - val_acc: 0.8444\n",
      "Epoch 10/50\n",
      "625/625 [==============================] - 306s 490ms/step - loss: 0.3204 - acc: 0.8620 - val_loss: 0.3071 - val_acc: 0.8786\n",
      "Epoch 11/50\n",
      "625/625 [==============================] - 304s 487ms/step - loss: 0.3083 - acc: 0.8680 - val_loss: 0.7969 - val_acc: 0.7487\n",
      "Epoch 12/50\n",
      "625/625 [==============================] - 303s 485ms/step - loss: 0.2980 - acc: 0.8717 - val_loss: 0.3328 - val_acc: 0.8578\n",
      "Epoch 13/50\n",
      "625/625 [==============================] - 303s 484ms/step - loss: 0.2912 - acc: 0.8761 - val_loss: 0.3115 - val_acc: 0.8668\n",
      "Epoch 14/50\n",
      "625/625 [==============================] - 302s 483ms/step - loss: 0.2796 - acc: 0.8818 - val_loss: 0.3273 - val_acc: 0.8760\n",
      "Epoch 15/50\n",
      "625/625 [==============================] - 305s 487ms/step - loss: 0.2811 - acc: 0.8830 - val_loss: 0.2707 - val_acc: 0.9007\n",
      "Epoch 16/50\n",
      "625/625 [==============================] - 307s 491ms/step - loss: 0.2727 - acc: 0.8867 - val_loss: 0.6059 - val_acc: 0.7972\n",
      "Epoch 17/50\n",
      "625/625 [==============================] - 310s 496ms/step - loss: 0.2636 - acc: 0.8886 - val_loss: 0.2870 - val_acc: 0.8950\n",
      "Epoch 18/50\n",
      "625/625 [==============================] - 318s 509ms/step - loss: 0.2616 - acc: 0.8893 - val_loss: 0.2525 - val_acc: 0.9039\n",
      "Epoch 19/50\n",
      "625/625 [==============================] - 312s 500ms/step - loss: 0.2563 - acc: 0.8928 - val_loss: 0.4316 - val_acc: 0.8044\n",
      "Epoch 20/50\n",
      "625/625 [==============================] - 310s 496ms/step - loss: 0.2560 - acc: 0.8938 - val_loss: 0.4405 - val_acc: 0.8395\n",
      "Epoch 21/50\n",
      "625/625 [==============================] - 308s 493ms/step - loss: 0.2514 - acc: 0.8933 - val_loss: 0.2370 - val_acc: 0.9102\n",
      "Epoch 22/50\n",
      "625/625 [==============================] - 308s 492ms/step - loss: 0.2409 - acc: 0.8987 - val_loss: 0.2420 - val_acc: 0.9175\n",
      "Epoch 23/50\n",
      "625/625 [==============================] - 308s 493ms/step - loss: 0.2477 - acc: 0.8979 - val_loss: 0.2334 - val_acc: 0.9012\n",
      "Epoch 24/50\n",
      "625/625 [==============================] - 306s 490ms/step - loss: 0.2410 - acc: 0.8990 - val_loss: 0.1998 - val_acc: 0.9242\n",
      "Epoch 25/50\n",
      "625/625 [==============================] - 304s 487ms/step - loss: 0.2393 - acc: 0.9023 - val_loss: 0.2608 - val_acc: 0.8923\n",
      "Epoch 26/50\n",
      "625/625 [==============================] - 304s 486ms/step - loss: 0.2382 - acc: 0.9036 - val_loss: 0.3624 - val_acc: 0.8759\n",
      "Epoch 27/50\n",
      "625/625 [==============================] - 303s 484ms/step - loss: 0.2277 - acc: 0.9036 - val_loss: 0.2462 - val_acc: 0.9177\n",
      "Epoch 28/50\n",
      "625/625 [==============================] - 307s 491ms/step - loss: 0.2281 - acc: 0.9051 - val_loss: 0.2506 - val_acc: 0.9098\n",
      "Epoch 29/50\n",
      "625/625 [==============================] - 317s 506ms/step - loss: 0.2241 - acc: 0.9062 - val_loss: 0.3205 - val_acc: 0.8896\n",
      "Epoch 30/50\n",
      "625/625 [==============================] - 317s 507ms/step - loss: 0.2304 - acc: 0.9053 - val_loss: 0.2183 - val_acc: 0.9148\n",
      "Epoch 31/50\n",
      "625/625 [==============================] - 317s 508ms/step - loss: 0.2239 - acc: 0.9067 - val_loss: 0.2494 - val_acc: 0.9180\n",
      "Epoch 32/50\n",
      "625/625 [==============================] - 318s 509ms/step - loss: 0.2235 - acc: 0.9076 - val_loss: 0.2586 - val_acc: 0.9010\n",
      "Epoch 33/50\n",
      "625/625 [==============================] - 318s 508ms/step - loss: 0.2169 - acc: 0.9103 - val_loss: 0.2981 - val_acc: 0.8702\n",
      "Epoch 34/50\n",
      "625/625 [==============================] - 319s 510ms/step - loss: 0.2172 - acc: 0.9108 - val_loss: 0.2513 - val_acc: 0.9014\n",
      "Epoch 35/50\n",
      "625/625 [==============================] - 318s 509ms/step - loss: 0.2158 - acc: 0.9108 - val_loss: 0.2600 - val_acc: 0.8945\n",
      "Epoch 36/50\n",
      "625/625 [==============================] - 317s 507ms/step - loss: 0.2166 - acc: 0.9097 - val_loss: 0.3367 - val_acc: 0.8815\n",
      "Epoch 37/50\n",
      "625/625 [==============================] - 318s 508ms/step - loss: 0.2144 - acc: 0.9131 - val_loss: 0.2167 - val_acc: 0.9209\n",
      "Epoch 38/50\n",
      "625/625 [==============================] - 319s 511ms/step - loss: 0.2123 - acc: 0.9135 - val_loss: 0.2373 - val_acc: 0.9097\n",
      "Epoch 39/50\n",
      "625/625 [==============================] - 319s 510ms/step - loss: 0.2170 - acc: 0.9131 - val_loss: 0.2286 - val_acc: 0.9118\n",
      "Epoch 40/50\n",
      "625/625 [==============================] - 320s 511ms/step - loss: 0.2115 - acc: 0.9153 - val_loss: 0.2710 - val_acc: 0.9104\n",
      "Epoch 41/50\n",
      "625/625 [==============================] - 319s 511ms/step - loss: 0.2069 - acc: 0.9161 - val_loss: 0.3120 - val_acc: 0.8754\n",
      "Epoch 42/50\n",
      "625/625 [==============================] - 321s 514ms/step - loss: 0.2083 - acc: 0.9161 - val_loss: 0.2036 - val_acc: 0.9211\n",
      "Epoch 43/50\n",
      "625/625 [==============================] - 319s 510ms/step - loss: 0.2067 - acc: 0.9157 - val_loss: 0.2087 - val_acc: 0.9274\n",
      "Epoch 44/50\n",
      "625/625 [==============================] - 318s 510ms/step - loss: 0.2047 - acc: 0.9162 - val_loss: 0.2387 - val_acc: 0.9126\n",
      "Epoch 45/50\n",
      "625/625 [==============================] - 320s 512ms/step - loss: 0.2058 - acc: 0.9165 - val_loss: 0.2221 - val_acc: 0.9183\n",
      "Epoch 46/50\n",
      "625/625 [==============================] - 317s 507ms/step - loss: 0.1996 - acc: 0.9184 - val_loss: 0.2313 - val_acc: 0.9052\n",
      "Epoch 47/50\n",
      "625/625 [==============================] - 318s 509ms/step - loss: 0.2070 - acc: 0.9159 - val_loss: 0.1959 - val_acc: 0.9282\n",
      "Epoch 48/50\n",
      "625/625 [==============================] - 320s 512ms/step - loss: 0.1979 - acc: 0.9197 - val_loss: 0.2051 - val_acc: 0.9220\n",
      "Epoch 49/50\n",
      "625/625 [==============================] - 322s 515ms/step - loss: 0.1971 - acc: 0.9206 - val_loss: 0.2747 - val_acc: 0.8922\n",
      "Epoch 50/50\n",
      "625/625 [==============================] - 320s 511ms/step - loss: 0.2007 - acc: 0.9172 - val_loss: 0.1921 - val_acc: 0.9295\n"
     ]
    }
   ],
   "source": [
    "epochs=50\n",
    "history = model1.fit_generator(\n",
    "    train_gen, \n",
    "    epochs=epochs,\n",
    "    validation_data=test_gen,\n",
    "    validation_steps=size_test//batch_size,\n",
    "    steps_per_epoch=size_train//batch_size,\n",
    ")"
   ]
  },
  {
   "cell_type": "code",
   "execution_count": 0,
   "metadata": {
    "colab": {},
    "colab_type": "code",
    "id": "yyaF8Ld2lOQ5"
   },
   "outputs": [],
   "source": [
    "model1.save_weights(\"model.h5\")"
   ]
  },
  {
   "cell_type": "code",
   "execution_count": 0,
   "metadata": {
    "colab": {
     "base_uri": "https://localhost:8080/",
     "height": 51
    },
    "colab_type": "code",
    "id": "asssM9FhjcTc",
    "outputId": "fadf8b19-8c0c-4f19-a406-360ce1659163"
   },
   "outputs": [
    {
     "name": "stdout",
     "output_type": "stream",
     "text": [
      "drive\t     sample_data\t    test.zip  train.zip\n",
      "kaggle.json  sample_submission.csv  train\n"
     ]
    }
   ],
   "source": [
    "!ls"
   ]
  },
  {
   "cell_type": "code",
   "execution_count": 0,
   "metadata": {
    "colab": {},
    "colab_type": "code",
    "id": "MqIrfTZzjsWZ"
   },
   "outputs": [],
   "source": [
    "!unzip test.zip\n",
    "!ls"
   ]
  },
  {
   "cell_type": "code",
   "execution_count": 224,
   "metadata": {
    "colab": {
     "base_uri": "https://localhost:8080/",
     "height": 34
    },
    "colab_type": "code",
    "id": "8pEPnJeLj0EE",
    "outputId": "260ba1f6-e8cc-40d5-c4dd-61ae7079f770"
   },
   "outputs": [
    {
     "name": "stdout",
     "output_type": "stream",
     "text": [
      "Found 12500 validated image filenames.\n"
     ]
    }
   ],
   "source": [
    "test_data = os.listdir('/content/test')\n",
    "test_df = pd.DataFrame({\n",
    "    'id': test_data\n",
    "})\n",
    "nTest = test_df.shape[0]\n",
    "\n",
    "test_datagen = ImageDataGenerator(rescale = 1.0/255.)\n",
    "test_gen = train_datagen.flow_from_dataframe(\n",
    "    test_df,  \n",
    "    '/content/test',\n",
    "    x_col='id',\n",
    "    y_col=None,\n",
    "    class_mode=None,\n",
    "    target_size=(height, width),\n",
    "    batch_size=batch_size,\n",
    ")\n",
    "\n",
    "predict = model1.predict_generator(test_gen, steps= np.round(nTest / batch_size))"
   ]
  },
  {
   "cell_type": "code",
   "execution_count": 225,
   "metadata": {
    "colab": {
     "base_uri": "https://localhost:8080/",
     "height": 136
    },
    "colab_type": "code",
    "id": "g_0faG0f0_Rk",
    "outputId": "4430feb5-4e55-4140-8d0a-bf9382ecc0c2"
   },
   "outputs": [
    {
     "data": {
      "text/plain": [
       "array([[1.07061476e-01, 8.95302176e-01],\n",
       "       [9.74257112e-01, 2.66921818e-02],\n",
       "       [9.99999762e-01, 2.38418579e-07],\n",
       "       ...,\n",
       "       [9.99975204e-01, 2.47061253e-05],\n",
       "       [9.99316335e-01, 7.16328621e-04],\n",
       "       [9.90611315e-01, 9.98291373e-03]], dtype=float32)"
      ]
     },
     "execution_count": 225,
     "metadata": {
      "tags": []
     },
     "output_type": "execute_result"
    }
   ],
   "source": [
    "predict"
   ]
  },
  {
   "cell_type": "code",
   "execution_count": 226,
   "metadata": {
    "colab": {
     "base_uri": "https://localhost:8080/",
     "height": 34
    },
    "colab_type": "code",
    "id": "_GXPU01vu3N_",
    "outputId": "12a779a3-dacc-43b5-b844-1af5505b0edc"
   },
   "outputs": [
    {
     "data": {
      "text/plain": [
       "12500"
      ]
     },
     "execution_count": 226,
     "metadata": {
      "tags": []
     },
     "output_type": "execute_result"
    }
   ],
   "source": [
    "predict1 = np.argmax(predict, axis=-1)\n",
    "predict1.shape[0]"
   ]
  },
  {
   "cell_type": "code",
   "execution_count": 0,
   "metadata": {
    "colab": {},
    "colab_type": "code",
    "id": "X8887JVVs6i_"
   },
   "outputs": [],
   "source": [
    "test_df['label'] = predict1\n",
    "test_df['image'] = test_df['id']\n",
    "test_df['id'] = test_df.index + 1\n",
    "submission = test_df[['id', 'label']]\n",
    "submission.to_csv('submission2.csv', index=False)"
   ]
  },
  {
   "cell_type": "code",
   "execution_count": 230,
   "metadata": {
    "colab": {
     "base_uri": "https://localhost:8080/",
     "height": 419
    },
    "colab_type": "code",
    "id": "pc_ypWiu3Aey",
    "outputId": "d1c049b4-6fa3-4824-fd48-d78eb0d7399f"
   },
   "outputs": [
    {
     "data": {
      "text/html": [
       "<div>\n",
       "<style scoped>\n",
       "    .dataframe tbody tr th:only-of-type {\n",
       "        vertical-align: middle;\n",
       "    }\n",
       "\n",
       "    .dataframe tbody tr th {\n",
       "        vertical-align: top;\n",
       "    }\n",
       "\n",
       "    .dataframe thead th {\n",
       "        text-align: right;\n",
       "    }\n",
       "</style>\n",
       "<table border=\"1\" class=\"dataframe\">\n",
       "  <thead>\n",
       "    <tr style=\"text-align: right;\">\n",
       "      <th></th>\n",
       "      <th>id</th>\n",
       "      <th>label</th>\n",
       "    </tr>\n",
       "  </thead>\n",
       "  <tbody>\n",
       "    <tr>\n",
       "      <th>0</th>\n",
       "      <td>1</td>\n",
       "      <td>1</td>\n",
       "    </tr>\n",
       "    <tr>\n",
       "      <th>1</th>\n",
       "      <td>2</td>\n",
       "      <td>0</td>\n",
       "    </tr>\n",
       "    <tr>\n",
       "      <th>2</th>\n",
       "      <td>3</td>\n",
       "      <td>0</td>\n",
       "    </tr>\n",
       "    <tr>\n",
       "      <th>3</th>\n",
       "      <td>4</td>\n",
       "      <td>0</td>\n",
       "    </tr>\n",
       "    <tr>\n",
       "      <th>4</th>\n",
       "      <td>5</td>\n",
       "      <td>1</td>\n",
       "    </tr>\n",
       "    <tr>\n",
       "      <th>...</th>\n",
       "      <td>...</td>\n",
       "      <td>...</td>\n",
       "    </tr>\n",
       "    <tr>\n",
       "      <th>12495</th>\n",
       "      <td>12496</td>\n",
       "      <td>0</td>\n",
       "    </tr>\n",
       "    <tr>\n",
       "      <th>12496</th>\n",
       "      <td>12497</td>\n",
       "      <td>1</td>\n",
       "    </tr>\n",
       "    <tr>\n",
       "      <th>12497</th>\n",
       "      <td>12498</td>\n",
       "      <td>0</td>\n",
       "    </tr>\n",
       "    <tr>\n",
       "      <th>12498</th>\n",
       "      <td>12499</td>\n",
       "      <td>0</td>\n",
       "    </tr>\n",
       "    <tr>\n",
       "      <th>12499</th>\n",
       "      <td>12500</td>\n",
       "      <td>0</td>\n",
       "    </tr>\n",
       "  </tbody>\n",
       "</table>\n",
       "<p>12500 rows × 2 columns</p>\n",
       "</div>"
      ],
      "text/plain": [
       "          id  label\n",
       "0          1      1\n",
       "1          2      0\n",
       "2          3      0\n",
       "3          4      0\n",
       "4          5      1\n",
       "...      ...    ...\n",
       "12495  12496      0\n",
       "12496  12497      1\n",
       "12497  12498      0\n",
       "12498  12499      0\n",
       "12499  12500      0\n",
       "\n",
       "[12500 rows x 2 columns]"
      ]
     },
     "execution_count": 230,
     "metadata": {
      "tags": []
     },
     "output_type": "execute_result"
    }
   ],
   "source": [
    "submission"
   ]
  },
  {
   "cell_type": "code",
   "execution_count": 205,
   "metadata": {
    "colab": {
     "base_uri": "https://localhost:8080/",
     "height": 68
    },
    "colab_type": "code",
    "id": "d4a8xfr5z7LF",
    "outputId": "13674ce5-cbcc-41ea-c4a6-1ce5d3be7422"
   },
   "outputs": [
    {
     "name": "stdout",
     "output_type": "stream",
     "text": [
      " drive\t\t    model.h5\t\t    submission.csv   train\n",
      "'kaggle (1).json'   sample_data\t\t    test\t     train.zip\n",
      " kaggle.json\t    sample_submission.csv   test.zip\n"
     ]
    }
   ],
   "source": [
    "!ls"
   ]
  },
  {
   "cell_type": "code",
   "execution_count": 0,
   "metadata": {
    "colab": {},
    "colab_type": "code",
    "id": "mxnJmCB-0Yp4"
   },
   "outputs": [],
   "source": [
    "files.download(\"submission2.csv\")"
   ]
  },
  {
   "attachments": {
    "image.png": {
     "image/png": "[encoded data removed]"
    }
   },
   "cell_type": "markdown",
   "metadata": {
    "colab_type": "text",
    "id": "cPSHdJ9Q3HaA"
   },
   "source": [
    "![image.png](attachment:image.png)"
   ]
  }
 ],
 "metadata": {
  "accelerator": "GPU",
  "colab": {
   "collapsed_sections": [],
   "name": "Homework 4 Part 2.ipynb",
   "provenance": []
  },
  "kernelspec": {
   "display_name": "Python 3",
   "language": "python",
   "name": "python3"
  },
  "language_info": {
   "codemirror_mode": {
    "name": "ipython",
    "version": 3
   },
   "file_extension": ".py",
   "mimetype": "text/x-python",
   "name": "python",
   "nbconvert_exporter": "python",
   "pygments_lexer": "ipython3",
   "version": "3.7.3"
  }
 },
 "nbformat": 4,
 "nbformat_minor": 1
}
